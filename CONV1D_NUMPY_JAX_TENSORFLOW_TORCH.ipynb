{
  "nbformat": 4,
  "nbformat_minor": 0,
  "metadata": {
    "colab": {
      "name": "CONV1D-NUMPY-JAX-TENSORFLOW-TORCH.ipynb",
      "provenance": [],
      "collapsed_sections": []
    },
    "kernelspec": {
      "name": "python3",
      "display_name": "Python 3"
    },
    "language_info": {
      "name": "python"
    }
  },
  "cells": [
    {
      "cell_type": "code",
      "execution_count": 1,
      "metadata": {
        "id": "a14RldcnPKfe"
      },
      "outputs": [],
      "source": [
        "import matplotlib.pyplot as plt\n",
        "\n",
        "from jax import random, lax\n",
        "import jax.numpy as jnp\n",
        "import numpy as np\n",
        "\n",
        "import tensorflow as tf\n",
        "\n",
        "import math as _math\n",
        "import torch\n",
        "from typing import List, Optional"
      ]
    },
    {
      "cell_type": "markdown",
      "source": [
        "# IVY CONV2D (NUMPY) (FROM IVY REPO)"
      ],
      "metadata": {
        "id": "-o7DnG1yD2nA"
      }
    },
    {
      "cell_type": "code",
      "source": [
        "def conv2d(x, filters, strides, padding, data_format='NHWC', dilations=1):\n",
        "    filter_shape = filters.shape[0:2]\n",
        "    filter_shape = list(filter_shape)\n",
        "    if data_format == 'NCHW':\n",
        "        x = np.transpose(x, (0, 2, 3, 1))\n",
        "    if padding == 'SAME':\n",
        "        x = np.pad(x, [[0, 0], [filter_shape[0]//2]*2, [filter_shape[1]//2]*2, [0, 0]])\n",
        "    x_shape = x.shape\n",
        "    input_dim = filters.shape[-2]\n",
        "    output_dim = filters.shape[-1]\n",
        "    new_h = x_shape[1] - filter_shape[0] + 1\n",
        "    new_w = x_shape[2] - filter_shape[1] + 1\n",
        "    new_shape = [x_shape[0], new_h, new_w] + filter_shape + [x_shape[-1]]\n",
        "    # ToDo: add non-unit stride support\n",
        "    new_strides = x.strides[0:1] + x.strides[1:3] + x.strides[1:3] + x.strides[-1:]\n",
        "    # B x OH x OW x KH x KW x I\n",
        "    sub_matrices = np.lib.stride_tricks.as_strided(x, new_shape, new_strides, writeable=False)\n",
        "    # B x OH x OW x KH x KW x I x O\n",
        "    sub_matrices_w_output_dim = np.tile(np.expand_dims(sub_matrices, -1), [1]*6 + [output_dim])\n",
        "    # B x OH x OW x KH x KW x I x O\n",
        "    mult = sub_matrices_w_output_dim * filters.reshape([1]*3 + filter_shape + [input_dim, output_dim])\n",
        "    # B x OH x OW x O\n",
        "    res = np.sum(mult, (3, 4, 5))\n",
        "    if data_format == 'NCHW':\n",
        "        return np.transpose(res, (0, 3, 1, 2))\n",
        "    return res"
      ],
      "metadata": {
        "id": "dHJVJI6WPPuA"
      },
      "execution_count": 2,
      "outputs": []
    },
    {
      "cell_type": "markdown",
      "source": [
        "### Reshaping with shape and stride values"
      ],
      "metadata": {
        "id": "D8VCtgmYQYwJ"
      }
    },
    {
      "cell_type": "code",
      "source": [
        "x = np.asarray([[[1, 2, 3, 4, 5], [-1, -2, -3, -4, -5]]], dtype=np.float32).transpose((0, 2, 1))\n",
        "filters = np.asarray([[[1, 0, -1], [-1,  0,  1]], \n",
        "                    [[1, 1,  1], [-1, -1, -1]]], \n",
        "                    dtype=np.float32).transpose((2, 1, 0))\n",
        "\n",
        "x = np.lib.stride_tricks.as_strided(x, shape = (1, 1, 5, 2), strides = (40, 40, 4, 20))\n",
        "filters = np.lib.stride_tricks.as_strided(filters, shape = (1, 3, 2, 2), strides = (4, 4, 12, 24))\n",
        "\n",
        "print(f\"x strides:  {x.strides}\\nfilters strides: {filters.strides}\\nx shape: {x.shape}\\nfilters shape: {filters.shape}\\nx: \\n{x}\\nfilters: \\n{filters}\\n\")"
      ],
      "metadata": {
        "colab": {
          "base_uri": "https://localhost:8080/"
        },
        "id": "EBoUn5gOT7O-",
        "outputId": "97ba8f96-4083-49bc-8e93-0d936b6e32c6"
      },
      "execution_count": 3,
      "outputs": [
        {
          "output_type": "stream",
          "name": "stdout",
          "text": [
            "x strides:  (40, 40, 4, 20)\n",
            "filters strides: (4, 4, 12, 24)\n",
            "x shape: (1, 1, 5, 2)\n",
            "filters shape: (1, 3, 2, 2)\n",
            "x: \n",
            "[[[[ 1. -1.]\n",
            "   [ 2. -2.]\n",
            "   [ 3. -3.]\n",
            "   [ 4. -4.]\n",
            "   [ 5. -5.]]]]\n",
            "filters: \n",
            "[[[[ 1.  1.]\n",
            "   [-1. -1.]]\n",
            "\n",
            "  [[ 0.  1.]\n",
            "   [ 0. -1.]]\n",
            "\n",
            "  [[-1.  1.]\n",
            "   [ 1. -1.]]]]\n",
            "\n"
          ]
        }
      ]
    },
    {
      "cell_type": "markdown",
      "source": [
        "# NUMPY CONV1D USING IVY'S CONV2D(NUMPY) (FROM IVY REPO)"
      ],
      "metadata": {
        "id": "qYjb6Bl4PV0V"
      }
    },
    {
      "cell_type": "code",
      "source": [
        "x = np.asarray([[[1, 2, 3, 4, -5], [1, 2, 3, 4, 5]]], dtype=np.float32).transpose((0, 2, 1))\n",
        "filters = np.asarray([[[1, 0, -1], [-1,  0,  1]], \n",
        "                    [[1, 1,  1], [-1, -1, -1]]], \n",
        "                    dtype=np.float32).transpose((2, 1, 0))\n",
        "\n",
        "x = np.lib.stride_tricks.as_strided(x, shape = (1, 1, 5, 2), strides = (40, 40, 4, 20))\n",
        "filters = np.lib.stride_tricks.as_strided(filters, shape = (1, 3, 2, 2), strides = (4, 4, 12, 24))\n",
        "\n",
        "print(f\"x strides:  {x.strides}\\nfilters strides: {filters.strides}\\nx shape: {x.shape}\\nfilters shape: {filters.shape}\\nx: \\n{x}\\nfilters: \\n{filters}\\n\")\n",
        "\n",
        "res = conv2d(x, filters, 1, 'SAME')\n",
        "res = np.lib.stride_tricks.as_strided(res, shape=res.shape[1:], strides=res.strides[1:])\n",
        "print(f\"res strides: {res.strides}\\nres shape: {res.shape}\\nres: \\n{res}\\n\")"
      ],
      "metadata": {
        "colab": {
          "base_uri": "https://localhost:8080/"
        },
        "id": "GH08C2U5EK4v",
        "outputId": "d3cbd758-5780-49ba-fb09-3141a0573e93"
      },
      "execution_count": 4,
      "outputs": [
        {
          "output_type": "stream",
          "name": "stdout",
          "text": [
            "x strides:  (40, 40, 4, 20)\n",
            "filters strides: (4, 4, 12, 24)\n",
            "x shape: (1, 1, 5, 2)\n",
            "filters shape: (1, 3, 2, 2)\n",
            "x: \n",
            "[[[[ 1.  1.]\n",
            "   [ 2.  2.]\n",
            "   [ 3.  3.]\n",
            "   [ 4.  4.]\n",
            "   [-5.  5.]]]]\n",
            "filters: \n",
            "[[[[ 1.  1.]\n",
            "   [-1. -1.]]\n",
            "\n",
            "  [[ 0.  1.]\n",
            "   [ 0. -1.]]\n",
            "\n",
            "  [[-1.  1.]\n",
            "   [ 1. -1.]]]]\n",
            "\n",
            "res strides: (40, 8, 4)\n",
            "res shape: (1, 5, 2)\n",
            "res: \n",
            "[[[  0.   0.]\n",
            "  [  0.   0.]\n",
            "  [  0.   0.]\n",
            "  [ 10. -10.]\n",
            "  [  0. -10.]]]\n",
            "\n"
          ]
        }
      ]
    },
    {
      "cell_type": "code",
      "source": [
        "x = np.asarray([[[1, 2, 3, 4, 5]]], dtype=np.float32).transpose((0, 2, 1))\n",
        "filters = np.array([[[-1, 1, 1]]], dtype=np.float32).transpose((2, 1, 0))\n",
        "\n",
        "x = np.lib.stride_tricks.as_strided(x, shape = (1, 1, 5, 1), strides = (20, 20, 4, 20))\n",
        "filters = np.lib.stride_tricks.as_strided(filters, shape = (1, 3, 1, 1), strides = (4, 4, 12, 12))\n",
        "\n",
        "print(f\"x strides:  {x.strides}\\nfilters strides: {filters.strides}\\nx shape: {x.shape}\\nfilters shape: {filters.shape}\\nx: \\n{x}\\nfilters: \\n{filters}\\n\")\n",
        "\n",
        "res = conv2d(x, filters, 1, 'SAME')\n",
        "res = np.lib.stride_tricks.as_strided(res, shape=res.shape[1:], strides=res.strides[1:])\n",
        "print(f\"res strides: {res.strides}\\nres shape: {res.shape}\\nres: \\n{res}\\n\")"
      ],
      "metadata": {
        "colab": {
          "base_uri": "https://localhost:8080/"
        },
        "id": "AGaInbcbd1bb",
        "outputId": "e3270ad7-5651-46ed-b97f-fd6e63d2e9a5"
      },
      "execution_count": 5,
      "outputs": [
        {
          "output_type": "stream",
          "name": "stdout",
          "text": [
            "x strides:  (20, 20, 4, 20)\n",
            "filters strides: (4, 4, 12, 12)\n",
            "x shape: (1, 1, 5, 1)\n",
            "filters shape: (1, 3, 1, 1)\n",
            "x: \n",
            "[[[[1.]\n",
            "   [2.]\n",
            "   [3.]\n",
            "   [4.]\n",
            "   [5.]]]]\n",
            "filters: \n",
            "[[[[-1.]]\n",
            "\n",
            "  [[ 1.]]\n",
            "\n",
            "  [[ 1.]]]]\n",
            "\n",
            "res strides: (20, 4, 4)\n",
            "res shape: (1, 5, 1)\n",
            "res: \n",
            "[[[3.]\n",
            "  [4.]\n",
            "  [5.]\n",
            "  [6.]\n",
            "  [1.]]]\n",
            "\n"
          ]
        }
      ]
    },
    {
      "cell_type": "code",
      "source": [
        "def conv1d(x, filters, strides, padding, data_format='NWC', dilations=1):\n",
        "    x_shape = (1,) + x.shape\n",
        "    filter_shape = (1,) + filters.shape\n",
        "    x_strides = (x.strides[0],) + x.strides\n",
        "    filter_strides = (filters.strides[0],) + filters.strides\n",
        "    x = np.lib.stride_tricks.as_strided(x, shape=x_shape, strides=x_strides)\n",
        "    filters = np.lib.stride_tricks.as_strided(filters, shape=filter_shape, strides=filter_strides)\n",
        "    res = conv2d(x, filters, strides, padding, data_format, dilations)\n",
        "    res = np.lib.stride_tricks.as_strided(res, shape=res.shape[1:], strides=res.strides[1:])\n",
        "    return res"
      ],
      "metadata": {
        "id": "J01HLReoseEP"
      },
      "execution_count": 6,
      "outputs": []
    },
    {
      "cell_type": "code",
      "source": [
        "x = np.asarray([[[1, 2, 3, 4, 5]]], dtype=np.float32).transpose((0, 2, 1))\n",
        "filters = np.array([[[-1, 1, 1]]], dtype=np.float32).transpose((2, 1, 0))\n",
        "\n",
        "print(f\"x strides:  {x.strides}\\nfilters strides: {filters.strides}\\nx shape: {x.shape}\\nfilters shape: {filters.shape}\\nx: \\n{x}\\nfilters: \\n{filters}\\n\")\n",
        "\n",
        "res = conv1d(x, filters, 1, 'SAME')\n",
        "print(f\"res strides: {res.strides}\\nres shape: {res.shape}\\nres: \\n{res}\\n\")"
      ],
      "metadata": {
        "colab": {
          "base_uri": "https://localhost:8080/"
        },
        "id": "xn3Dt_Grsfx-",
        "outputId": "8f7299ba-b26e-4dd0-dc34-ea4751ab4a36"
      },
      "execution_count": 7,
      "outputs": [
        {
          "output_type": "stream",
          "name": "stdout",
          "text": [
            "x strides:  (20, 4, 20)\n",
            "filters strides: (4, 12, 12)\n",
            "x shape: (1, 5, 1)\n",
            "filters shape: (3, 1, 1)\n",
            "x: \n",
            "[[[1.]\n",
            "  [2.]\n",
            "  [3.]\n",
            "  [4.]\n",
            "  [5.]]]\n",
            "filters: \n",
            "[[[-1.]]\n",
            "\n",
            " [[ 1.]]\n",
            "\n",
            " [[ 1.]]]\n",
            "\n",
            "res strides: (20, 4, 4)\n",
            "res shape: (1, 5, 1)\n",
            "res: \n",
            "[[[3.]\n",
            "  [4.]\n",
            "  [5.]\n",
            "  [6.]\n",
            "  [1.]]]\n",
            "\n"
          ]
        }
      ]
    },
    {
      "cell_type": "code",
      "source": [
        "x = np.asarray([[[1, 2, 3, 4, -5], [1, 2, 3, 4, 5]]], dtype=np.float32).transpose((0, 2, 1))\n",
        "filters = np.asarray([[[1, 0, -1], [-1,  0,  1]], \n",
        "                    [[1, 1,  1], [-1, -1, -1]]], \n",
        "                    dtype=np.float32).transpose((2, 1, 0))\n",
        "\n",
        "print(f\"x strides:  {x.strides}\\nfilters strides: {filters.strides}\\nx shape: {x.shape}\\nfilters shape: {filters.shape}\\nx: \\n{x}\\nfilters: \\n{filters}\\n\")\n",
        "\n",
        "res = conv1d(x, filters, 1, 'SAME')\n",
        "print(f\"res strides: {res.strides}\\nres shape: {res.shape}\\nres: \\n{res}\\n\")"
      ],
      "metadata": {
        "colab": {
          "base_uri": "https://localhost:8080/"
        },
        "id": "OiNyXN3ivRxk",
        "outputId": "59ddaf34-9f23-4603-8809-f85a61f6f58c"
      },
      "execution_count": 8,
      "outputs": [
        {
          "output_type": "stream",
          "name": "stdout",
          "text": [
            "x strides:  (40, 4, 20)\n",
            "filters strides: (4, 12, 24)\n",
            "x shape: (1, 5, 2)\n",
            "filters shape: (3, 2, 2)\n",
            "x: \n",
            "[[[ 1.  1.]\n",
            "  [ 2.  2.]\n",
            "  [ 3.  3.]\n",
            "  [ 4.  4.]\n",
            "  [-5.  5.]]]\n",
            "filters: \n",
            "[[[ 1.  1.]\n",
            "  [-1. -1.]]\n",
            "\n",
            " [[ 0.  1.]\n",
            "  [ 0. -1.]]\n",
            "\n",
            " [[-1.  1.]\n",
            "  [ 1. -1.]]]\n",
            "\n",
            "res strides: (40, 8, 4)\n",
            "res shape: (1, 5, 2)\n",
            "res: \n",
            "[[[  0.   0.]\n",
            "  [  0.   0.]\n",
            "  [  0.   0.]\n",
            "  [ 10. -10.]\n",
            "  [  0. -10.]]]\n",
            "\n"
          ]
        }
      ]
    },
    {
      "cell_type": "markdown",
      "source": [
        "# JAX CONV1D USING JAX'S BUILT-IN CONV2D FUNCTION"
      ],
      "metadata": {
        "id": "PIX-iW0IE88O"
      }
    },
    {
      "cell_type": "code",
      "source": [
        "x = np.asarray([[[1, 2, 3, 4, -5], [1, 2, 3, 4, 5]]], dtype=np.float32).transpose((0, 2, 1))\n",
        "filters = np.asarray([[[1, 0, -1], [-1,  0,  1]], \n",
        "                    [[1, 1,  1], [-1, -1, -1]]], \n",
        "                    dtype=np.float32).transpose((2, 1, 0))\n",
        "\n",
        "x = np.lib.stride_tricks.as_strided(x, shape = (1, 1, 5, 2), strides = (40, 40, 4, 20))\n",
        "filters = np.lib.stride_tricks.as_strided(filters, shape = (1, 3, 2, 2), strides = (4, 4, 12, 24))\n",
        "\n",
        "print(f\"x strides:  {x.strides}\\nfilters strides: {filters.strides}\\nx shape: {x.shape}\\nfilters shape: {filters.shape}\\nx: \\n{x}\\nfilters: \\n{filters}\\n\")\n",
        "\n",
        "dn1 = lax.conv_dimension_numbers(x.shape, filters.shape,\n",
        "                                ('NHWC', 'HWIO', 'NHWC'))\n",
        "print(dn1)\n",
        "\n",
        "res = lax.conv_general_dilated(x,    # lhs = image tensor\n",
        "                               filters, # rhs = conv kernel tensor\n",
        "                               (1,1),  # window strides\n",
        "                               'SAME', # padding mode\n",
        "                               (1,1),  # lhs/image dilation\n",
        "                               (1,1),  # rhs/kernel dilation\n",
        "                               dn1)     # dimension_numbers = lhs, rhs, out dimension permutation\n",
        "\n",
        "res = np.asarray(res)\n",
        "res = np.lib.stride_tricks.as_strided(res, shape=res.shape[1:], strides=res.strides[1:])\n",
        "print(f\"res strides: {res.strides}\\nres shape: {res.shape}\\nres: \\n{res}\\n\")"
      ],
      "metadata": {
        "colab": {
          "base_uri": "https://localhost:8080/"
        },
        "id": "Gt4Dgf4bE_gF",
        "outputId": "fa13113c-20ff-4fc0-ecdd-3d3548a6825f"
      },
      "execution_count": 9,
      "outputs": [
        {
          "output_type": "stream",
          "name": "stdout",
          "text": [
            "x strides:  (40, 40, 4, 20)\n",
            "filters strides: (4, 4, 12, 24)\n",
            "x shape: (1, 1, 5, 2)\n",
            "filters shape: (1, 3, 2, 2)\n",
            "x: \n",
            "[[[[ 1.  1.]\n",
            "   [ 2.  2.]\n",
            "   [ 3.  3.]\n",
            "   [ 4.  4.]\n",
            "   [-5.  5.]]]]\n",
            "filters: \n",
            "[[[[ 1.  1.]\n",
            "   [-1. -1.]]\n",
            "\n",
            "  [[ 0.  1.]\n",
            "   [ 0. -1.]]\n",
            "\n",
            "  [[-1.  1.]\n",
            "   [ 1. -1.]]]]\n",
            "\n",
            "ConvDimensionNumbers(lhs_spec=(0, 3, 1, 2), rhs_spec=(3, 2, 0, 1), out_spec=(0, 3, 1, 2))\n"
          ]
        },
        {
          "output_type": "stream",
          "name": "stderr",
          "text": [
            "WARNING:absl:No GPU/TPU found, falling back to CPU. (Set TF_CPP_MIN_LOG_LEVEL=0 and rerun for more info.)\n"
          ]
        },
        {
          "output_type": "stream",
          "name": "stdout",
          "text": [
            "res strides: (40, 8, 4)\n",
            "res shape: (1, 5, 2)\n",
            "res: \n",
            "[[[  0.   0.]\n",
            "  [  0.   0.]\n",
            "  [  0.   0.]\n",
            "  [ 10. -10.]\n",
            "  [  0. -10.]]]\n",
            "\n"
          ]
        }
      ]
    },
    {
      "cell_type": "code",
      "source": [
        "x = np.asarray([[[1, 2, 3, 4, 5]]], dtype=np.float32).transpose((0, 2, 1))\n",
        "filters = np.array([[[-1, 1, 1]]], dtype=np.float32).transpose((2, 1, 0))\n",
        "\n",
        "x = np.lib.stride_tricks.as_strided(x, shape = (1, 1, 5, 1), strides = (20, 20, 4, 20))\n",
        "filters = np.lib.stride_tricks.as_strided(filters, shape = (1, 3, 1, 1), strides = (4, 4, 12, 12))\n",
        "\n",
        "print(f\"x strides:  {x.strides}\\nfilters strides: {filters.strides}\\nx shape: {x.shape}\\nfilters shape: {filters.shape}\\nx: \\n{x}\\nfilters: \\n{filters}\\n\")\n",
        "\n",
        "dn1 = lax.conv_dimension_numbers(x.shape, filters.shape,\n",
        "                                ('NHWC', 'HWIO', 'NHWC'))\n",
        "print(dn1)\n",
        "\n",
        "res = lax.conv_general_dilated(x,    # lhs = image tensor\n",
        "                               filters, # rhs = conv kernel tensor\n",
        "                               (1,1),  # window strides\n",
        "                               'SAME', # padding mode\n",
        "                               (1,1),  # lhs/image dilation\n",
        "                               (1,1),  # rhs/kernel dilation\n",
        "                               dn1)     # dimension_numbers = lhs, rhs, out dimension permutation\n",
        "\n",
        "res = np.asarray(res)\n",
        "res = np.lib.stride_tricks.as_strided(res, shape=res.shape[1:], strides=res.strides[1:])\n",
        "print(f\"res strides: {res.strides}\\nres shape: {res.shape}\\nres: \\n{res}\\n\")"
      ],
      "metadata": {
        "colab": {
          "base_uri": "https://localhost:8080/"
        },
        "id": "NJwgzyj6eT6_",
        "outputId": "b66de058-ed42-4a8e-d802-2a04578648e7"
      },
      "execution_count": 10,
      "outputs": [
        {
          "output_type": "stream",
          "name": "stdout",
          "text": [
            "x strides:  (20, 20, 4, 20)\n",
            "filters strides: (4, 4, 12, 12)\n",
            "x shape: (1, 1, 5, 1)\n",
            "filters shape: (1, 3, 1, 1)\n",
            "x: \n",
            "[[[[1.]\n",
            "   [2.]\n",
            "   [3.]\n",
            "   [4.]\n",
            "   [5.]]]]\n",
            "filters: \n",
            "[[[[-1.]]\n",
            "\n",
            "  [[ 1.]]\n",
            "\n",
            "  [[ 1.]]]]\n",
            "\n",
            "ConvDimensionNumbers(lhs_spec=(0, 3, 1, 2), rhs_spec=(3, 2, 0, 1), out_spec=(0, 3, 1, 2))\n",
            "res strides: (20, 4, 4)\n",
            "res shape: (1, 5, 1)\n",
            "res: \n",
            "[[[3.]\n",
            "  [4.]\n",
            "  [5.]\n",
            "  [6.]\n",
            "  [1.]]]\n",
            "\n"
          ]
        }
      ]
    },
    {
      "cell_type": "markdown",
      "source": [
        "# JAX CONV1D USING JAX'S BUILT-IN CONV1D FUNCTION"
      ],
      "metadata": {
        "id": "r_TPEjqNQwRm"
      }
    },
    {
      "cell_type": "code",
      "source": [
        "x = np.asarray([[[1, 2, 3, 4, 5]]], dtype=np.float32).transpose((0, 2, 1))\n",
        "filters = np.array([[[-1, 1, 1]]], dtype=np.float32).transpose((2, 1, 0))\n",
        "\n",
        "print(f\"x strides:  {x.strides}\\nfilters strides: {filters.strides}\\nx shape: {x.shape}\\nfilters shape: {filters.shape}\\nx: \\n{x}\\nfilters: \\n{filters}\\n\")\n",
        "\n",
        "dn = lax.conv_dimension_numbers(x.shape, filters.shape,\n",
        "                                ('NWC', 'WIO', 'NWC'))\n",
        "print(dn)\n",
        "\n",
        "data3 = jnp.asarray(x)\n",
        "kernel3 = jnp.asarray(filters)\n",
        "\n",
        "res = lax.conv_general_dilated(x,   # lhs = image tensor\n",
        "                               filters, # rhs = conv kernel tensor\n",
        "                               (1,),   # window strides\n",
        "                               'SAME', # padding mode\n",
        "                               (1,),   # lhs/image dilation\n",
        "                               (1,),   # rhs/kernel dilation\n",
        "                               dn)     # dimension_numbers = lhs, rhs, out dimension permutation\n",
        "\n",
        "res = np.asarray(res)\n",
        "\n",
        "print(f\"res strides: {res.strides}\\nres shape: {res.shape}\\nres: \\n{res}\\n\")"
      ],
      "metadata": {
        "colab": {
          "base_uri": "https://localhost:8080/"
        },
        "id": "pljOxH4mQveP",
        "outputId": "12643b3f-062f-4a52-eeca-e9fa1760b1a9"
      },
      "execution_count": 11,
      "outputs": [
        {
          "output_type": "stream",
          "name": "stdout",
          "text": [
            "x strides:  (20, 4, 20)\n",
            "filters strides: (4, 12, 12)\n",
            "x shape: (1, 5, 1)\n",
            "filters shape: (3, 1, 1)\n",
            "x: \n",
            "[[[1.]\n",
            "  [2.]\n",
            "  [3.]\n",
            "  [4.]\n",
            "  [5.]]]\n",
            "filters: \n",
            "[[[-1.]]\n",
            "\n",
            " [[ 1.]]\n",
            "\n",
            " [[ 1.]]]\n",
            "\n",
            "ConvDimensionNumbers(lhs_spec=(0, 2, 1), rhs_spec=(2, 1, 0), out_spec=(0, 2, 1))\n",
            "res strides: (20, 4, 4)\n",
            "res shape: (1, 5, 1)\n",
            "res: \n",
            "[[[3.]\n",
            "  [4.]\n",
            "  [5.]\n",
            "  [6.]\n",
            "  [1.]]]\n",
            "\n"
          ]
        }
      ]
    },
    {
      "cell_type": "markdown",
      "source": [
        "# TENSORFLOW CONV1D USING TENSORFLOW'S BUILT-IN CONV1D FUNCTION"
      ],
      "metadata": {
        "id": "yJ1OIa_lThWl"
      }
    },
    {
      "cell_type": "code",
      "source": [
        "x = np.asarray([[[1, 2, 3, 4, -5], [1, 2, 3, 4, 5]]], dtype=np.float32).transpose((0, 2, 1))\n",
        "filters = np.array([[[1, 0, -1], [-1,  0,  1]], \n",
        "                    [[1, 1,  1], [-1, -1, -1]]], \n",
        "                    dtype=np.float32).transpose([2,1,0])\n",
        "\n",
        "print(f\"x strides:  {x.strides}\\nfilters strides: {filters.strides}\\nx shape: {x.shape}\\nfilters shape: {filters.shape}\\nx: \\n{x}\\nfilters: \\n{filters}\\n\")\n",
        "\n",
        "strides = 1\n",
        "padding = 'SAME'\n",
        "data_format = 'NCW'\n",
        "dilations = 1\n",
        "\n",
        "if data_format == 'NCW':\n",
        "    x = tf.transpose(x, (0, 1, 2))\n",
        "    \n",
        "res = tf.nn.conv1d(x, filters, strides, padding, 'NWC', dilations)\n",
        "\n",
        "if data_format == 'NCW':\n",
        "    res = tf.transpose(res, (0, 1, 2))\n",
        "\n",
        "res = np.asarray(res)\n",
        "\n",
        "print(f\"result strides: {res.strides}\\nresult shape: {res.shape}\\nresult: \\n{res}\\n\")"
      ],
      "metadata": {
        "colab": {
          "base_uri": "https://localhost:8080/"
        },
        "id": "wszzI8gwTmxV",
        "outputId": "b6e9f845-9787-41e2-e499-3bf3c0a9413a"
      },
      "execution_count": 12,
      "outputs": [
        {
          "output_type": "stream",
          "name": "stdout",
          "text": [
            "x strides:  (40, 4, 20)\n",
            "filters strides: (4, 12, 24)\n",
            "x shape: (1, 5, 2)\n",
            "filters shape: (3, 2, 2)\n",
            "x: \n",
            "[[[ 1.  1.]\n",
            "  [ 2.  2.]\n",
            "  [ 3.  3.]\n",
            "  [ 4.  4.]\n",
            "  [-5.  5.]]]\n",
            "filters: \n",
            "[[[ 1.  1.]\n",
            "  [-1. -1.]]\n",
            "\n",
            " [[ 0.  1.]\n",
            "  [ 0. -1.]]\n",
            "\n",
            " [[-1.  1.]\n",
            "  [ 1. -1.]]]\n",
            "\n",
            "result strides: (40, 8, 4)\n",
            "result shape: (1, 5, 2)\n",
            "result: \n",
            "[[[  0.   0.]\n",
            "  [  0.   0.]\n",
            "  [  0.   0.]\n",
            "  [ 10. -10.]\n",
            "  [  0. -10.]]]\n",
            "\n"
          ]
        }
      ]
    },
    {
      "cell_type": "code",
      "source": [
        "x = np.asarray([[[1, 2, 3, 4, 5]]], dtype=np.float32).transpose((0, 2, 1))\n",
        "filters = np.asarray([[[-1, 1, 1]]], dtype=np.float32).transpose((2, 1, 0))\n",
        "\n",
        "print(f\"x strides:  {x.strides}\\nfilters strides: {filters.strides}\\nx shape: {x.shape}\\nfilters shape: {filters.shape}\\nx: \\n{x}\\nfilters: \\n{filters}\\n\")\n",
        "\n",
        "strides = 1\n",
        "padding = 'SAME'\n",
        "data_format = 'NCW'\n",
        "dilations = 1\n",
        "\n",
        "if data_format == 'NCW':\n",
        "    x = tf.transpose(x, (0, 1, 2))\n",
        "    \n",
        "res = tf.nn.conv1d(x, filters, strides, padding, 'NWC', dilations)\n",
        "\n",
        "if data_format == 'NCW':\n",
        "    res = tf.transpose(res, (0, 1, 2))\n",
        "\n",
        "res = np.asarray(res)\n",
        "\n",
        "print(f\"result strides: {res.strides}\\nresult shape: {res.shape}\\nresult: \\n{res}\\n\")"
      ],
      "metadata": {
        "colab": {
          "base_uri": "https://localhost:8080/"
        },
        "id": "xzv0tlIke-6_",
        "outputId": "edd75efa-d946-4c74-bce9-888aa8bdf5fe"
      },
      "execution_count": 13,
      "outputs": [
        {
          "output_type": "stream",
          "name": "stdout",
          "text": [
            "x strides:  (20, 4, 20)\n",
            "filters strides: (4, 12, 12)\n",
            "x shape: (1, 5, 1)\n",
            "filters shape: (3, 1, 1)\n",
            "x: \n",
            "[[[1.]\n",
            "  [2.]\n",
            "  [3.]\n",
            "  [4.]\n",
            "  [5.]]]\n",
            "filters: \n",
            "[[[-1.]]\n",
            "\n",
            " [[ 1.]]\n",
            "\n",
            " [[ 1.]]]\n",
            "\n",
            "result strides: (20, 4, 4)\n",
            "result shape: (1, 5, 1)\n",
            "result: \n",
            "[[[3.]\n",
            "  [4.]\n",
            "  [5.]\n",
            "  [6.]\n",
            "  [1.]]]\n",
            "\n"
          ]
        }
      ]
    },
    {
      "cell_type": "code",
      "source": [
        "x = np.asarray([[[0.], [3.], [0.]]], dtype=np.float32).transpose((0, 2, 1))\n",
        "filters = np.asarray([[[0.]], [[1.]], [[0.]]], dtype=np.float32).transpose((2, 1, 0))\n",
        "\n",
        "print(f\"x strides:  {x.strides}\\nfilters strides: {filters.strides}\\nx shape: {x.shape}\\nfilters shape: {filters.shape}\\nx: \\n{x}\\nfilters: \\n{filters}\\n\")\n",
        "\n",
        "strides = 1\n",
        "padding = 'SAME'\n",
        "data_format = 'NCW'\n",
        "dilations = 1\n",
        "\n",
        "if data_format == 'NCW':\n",
        "    x = tf.transpose(x, (0, 1, 2))\n",
        "    \n",
        "res = tf.nn.conv1d(x, filters, strides, padding, 'NWC', dilations)\n",
        "\n",
        "if data_format == 'NCW':\n",
        "    res = tf.transpose(res, (0, 1, 2))\n",
        "\n",
        "res = np.asarray(res)\n",
        "\n",
        "print(f\"res strides: {res.strides}\\nres shape: {res.shape}\\nres: \\n{res}\\n\")"
      ],
      "metadata": {
        "colab": {
          "base_uri": "https://localhost:8080/"
        },
        "id": "GdyDgC7cF8WX",
        "outputId": "39ccc459-ec31-479a-9674-23ce848a4fc4"
      },
      "execution_count": 14,
      "outputs": [
        {
          "output_type": "stream",
          "name": "stdout",
          "text": [
            "x strides:  (12, 4, 4)\n",
            "filters strides: (4, 4, 4)\n",
            "x shape: (1, 1, 3)\n",
            "filters shape: (1, 1, 3)\n",
            "x: \n",
            "[[[0. 3. 0.]]]\n",
            "filters: \n",
            "[[[0. 1. 0.]]]\n",
            "\n",
            "res strides: (12, 12, 4)\n",
            "res shape: (1, 1, 3)\n",
            "res: \n",
            "[[[0. 3. 0.]]]\n",
            "\n"
          ]
        }
      ]
    },
    {
      "cell_type": "code",
      "source": [
        "x = np.asarray([[[0.], [3.], [0.]] for _ in range(5)], dtype=np.float32).transpose((0, 2, 1))\n",
        "filters = np.asarray([[[0.]], [[1.]], [[0.]]], dtype=np.float32).transpose((2, 1, 0))\n",
        "\n",
        "print(f\"x strides:  {x.strides}\\nfilters strides: {filters.strides}\\nx shape: {x.shape}\\nfilters shape: {filters.shape}\\nx: \\n{x}\\nfilters: \\n{filters}\\n\")\n",
        "\n",
        "strides = 1\n",
        "padding = 'SAME'\n",
        "data_format = 'NCW'\n",
        "dilations = 1\n",
        "\n",
        "if data_format == 'NCW':\n",
        "    x = tf.transpose(x, (0, 1, 2))\n",
        "    \n",
        "res = tf.nn.conv1d(x, filters, strides, padding, 'NWC', dilations)\n",
        "\n",
        "if data_format == 'NCW':\n",
        "    res = tf.transpose(res, (0, 1, 2))\n",
        "\n",
        "res = np.asarray(res)\n",
        "\n",
        "print(f\"res strides: {res.strides}\\nres shape: {res.shape}\\nres: \\n{res}\\n\")"
      ],
      "metadata": {
        "colab": {
          "base_uri": "https://localhost:8080/"
        },
        "id": "2hX_rEXyGRh_",
        "outputId": "001428ca-38af-4917-b338-e4db12a77fd2"
      },
      "execution_count": 15,
      "outputs": [
        {
          "output_type": "stream",
          "name": "stdout",
          "text": [
            "x strides:  (12, 4, 4)\n",
            "filters strides: (4, 4, 4)\n",
            "x shape: (5, 1, 3)\n",
            "filters shape: (1, 1, 3)\n",
            "x: \n",
            "[[[0. 3. 0.]]\n",
            "\n",
            " [[0. 3. 0.]]\n",
            "\n",
            " [[0. 3. 0.]]\n",
            "\n",
            " [[0. 3. 0.]]\n",
            "\n",
            " [[0. 3. 0.]]]\n",
            "filters: \n",
            "[[[0. 1. 0.]]]\n",
            "\n",
            "res strides: (12, 12, 4)\n",
            "res shape: (5, 1, 3)\n",
            "res: \n",
            "[[[0. 3. 0.]]\n",
            "\n",
            " [[0. 3. 0.]]\n",
            "\n",
            " [[0. 3. 0.]]\n",
            "\n",
            " [[0. 3. 0.]]\n",
            "\n",
            " [[0. 3. 0.]]]\n",
            "\n"
          ]
        }
      ]
    },
    {
      "cell_type": "markdown",
      "source": [
        "# TORCH CONV1D USING TORCH'S BUILT-IN CONV2D FUNCTION (FROM IVY REPO)"
      ],
      "metadata": {
        "id": "L-FZ0NIDV0jL"
      }
    },
    {
      "cell_type": "code",
      "source": [
        "x = np.asarray([[[1, 2, 3, 4, -5], [1, 2, 3, 4, 5]]], dtype=np.float32).transpose((0, 2, 1))\n",
        "filters = np.asarray([[[1, 0, -1], [-1,  0,  1]], \n",
        "                    [[1, 1,  1], [-1, -1, -1]]], \n",
        "                    dtype=np.float32).transpose((2, 1, 0))\n",
        "\n",
        "x = np.lib.stride_tricks.as_strided(x, shape = (1, 1, 5, 2), strides = (40, 40, 4, 20))\n",
        "filters = np.lib.stride_tricks.as_strided(filters, shape = (1, 3, 2, 2), strides = (4, 4, 12, 24))\n",
        "\n",
        "print(f\"x strides:  {x.strides}\\nfilters strides: {filters.strides}\\nx shape: {x.shape}\\nfilters shape: {filters.shape}\\nx: \\n{x}\\nfilters: \\n{filters}\\n\")\n",
        "\n",
        "x = torch.Tensor(x)\n",
        "filters = torch.Tensor(filters)\n",
        "\n",
        "strides = 1\n",
        "padding = 'SAME'\n",
        "data_format = 'NHWC'\n",
        "dilations = 1\n",
        "\n",
        "filter_shape = list(filters.shape[0:2])\n",
        "filters = filters.permute(3, 2, 0, 1)\n",
        "if data_format == 'NHWC':\n",
        "    x = x.permute(0, 3, 1, 2)\n",
        "if padding == 'VALID':\n",
        "    padding_list: List[int] = [0, 0]\n",
        "elif padding == 'SAME':\n",
        "    padding_list: List[int] = [int(_math.floor(item / 2)) for item in filter_shape]\n",
        "else:\n",
        "    raise Exception('Invalid padding arg {}\\n'\n",
        "                    'Must be one of: \"VALID\" or \"SAME\"'.format(padding))\n",
        "res = torch.nn.functional.conv2d(x, filters, None, strides, padding_list, dilations)\n",
        "if data_format == 'NHWC':\n",
        "  res = res.permute(0, 2, 3, 1)\n",
        "\n",
        "res = np.asarray(res)\n",
        "res = np.lib.stride_tricks.as_strided(res, shape=res.shape[1:], strides=res.strides[1:])\n",
        "print(f\"res strides: {res.strides}\\nres shape: {res.shape}\\nres: \\n{res}\\n\")"
      ],
      "metadata": {
        "colab": {
          "base_uri": "https://localhost:8080/"
        },
        "id": "8H-RN1emOATz",
        "outputId": "9e24491c-1455-4209-978d-d9b849da417d"
      },
      "execution_count": 16,
      "outputs": [
        {
          "output_type": "stream",
          "name": "stdout",
          "text": [
            "x strides:  (40, 40, 4, 20)\n",
            "filters strides: (4, 4, 12, 24)\n",
            "x shape: (1, 1, 5, 2)\n",
            "filters shape: (1, 3, 2, 2)\n",
            "x: \n",
            "[[[[ 1.  1.]\n",
            "   [ 2.  2.]\n",
            "   [ 3.  3.]\n",
            "   [ 4.  4.]\n",
            "   [-5.  5.]]]]\n",
            "filters: \n",
            "[[[[ 1.  1.]\n",
            "   [-1. -1.]]\n",
            "\n",
            "  [[ 0.  1.]\n",
            "   [ 0. -1.]]\n",
            "\n",
            "  [[-1.  1.]\n",
            "   [ 1. -1.]]]]\n",
            "\n",
            "res strides: (20, 4, 20)\n",
            "res shape: (1, 5, 2)\n",
            "res: \n",
            "[[[  0.   0.]\n",
            "  [  0.   0.]\n",
            "  [  0.   0.]\n",
            "  [ 10. -10.]\n",
            "  [  0. -10.]]]\n",
            "\n"
          ]
        }
      ]
    },
    {
      "cell_type": "code",
      "source": [
        "x = np.asarray([[[1, 2, 3, 4, 5]]], dtype=np.float32).transpose((0, 2, 1))\n",
        "filters = np.asarray([[[-1, 1, 1]]], dtype=np.float32).transpose((2, 1, 0))\n",
        "\n",
        "x = np.lib.stride_tricks.as_strided(x, shape = (1, 1, 5, 1), strides = (20, 20, 4, 20))\n",
        "filters = np.lib.stride_tricks.as_strided(filters, shape = (1, 3, 1, 1), strides = (4, 4, 12, 12))\n",
        "\n",
        "print(f\"x strides:  {x.strides}\\nfilters strides: {filters.strides}\\nx shape: {x.shape}\\nfilters shape: {filters.shape}\\nx: \\n{x}\\nfilters: \\n{filters}\\n\")\n",
        "\n",
        "x = torch.from_numpy(x)\n",
        "filters = torch.from_numpy(filters)\n",
        "\n",
        "strides = 1\n",
        "padding = 'SAME'\n",
        "data_format = 'NHWC'\n",
        "dilations = 1\n",
        "\n",
        "filter_shape = list(filters.shape[0:2])\n",
        "filters = filters.permute(3, 2, 0, 1)\n",
        "if data_format == 'NHWC':\n",
        "    x = x.permute(0, 3, 1, 2)\n",
        "if padding == 'VALID':\n",
        "    padding_list: List[int] = [0, 0]\n",
        "elif padding == 'SAME':\n",
        "    padding_list: List[int] = [int(_math.floor(item / 2)) for item in filter_shape]\n",
        "else:\n",
        "    raise Exception('Invalid padding arg {}\\n'\n",
        "                    'Must be one of: \"VALID\" or \"SAME\"'.format(padding))\n",
        "res = torch.nn.functional.conv2d(x, filters, None, strides, padding_list, dilations)\n",
        "if data_format == 'NHWC':\n",
        "  res = res.permute(0, 2, 3, 1)\n",
        "\n",
        "res = np.asarray(res)\n",
        "res = np.lib.stride_tricks.as_strided(res, shape=res.shape[1:], strides=res.strides[1:])\n",
        "print(f\"res strides: {res.strides}\\nres shape: {res.shape}\\nres: \\n{res}\\n\")"
      ],
      "metadata": {
        "colab": {
          "base_uri": "https://localhost:8080/"
        },
        "id": "ClYuaeOjf8DW",
        "outputId": "2886e012-a068-4e12-e0c6-cca5d5520b5f"
      },
      "execution_count": 17,
      "outputs": [
        {
          "output_type": "stream",
          "name": "stdout",
          "text": [
            "x strides:  (20, 20, 4, 20)\n",
            "filters strides: (4, 4, 12, 12)\n",
            "x shape: (1, 1, 5, 1)\n",
            "filters shape: (1, 3, 1, 1)\n",
            "x: \n",
            "[[[[1.]\n",
            "   [2.]\n",
            "   [3.]\n",
            "   [4.]\n",
            "   [5.]]]]\n",
            "filters: \n",
            "[[[[-1.]]\n",
            "\n",
            "  [[ 1.]]\n",
            "\n",
            "  [[ 1.]]]]\n",
            "\n",
            "res strides: (20, 4, 20)\n",
            "res shape: (1, 5, 1)\n",
            "res: \n",
            "[[[3.]\n",
            "  [4.]\n",
            "  [5.]\n",
            "  [6.]\n",
            "  [1.]]]\n",
            "\n"
          ]
        }
      ]
    },
    {
      "cell_type": "markdown",
      "source": [
        "# TORCH CONV1D USING TORCH'S BUILT-IN CONV1D FUNCTION (FROM IVY REPO)"
      ],
      "metadata": {
        "id": "8OJvjqN_dnpP"
      }
    },
    {
      "cell_type": "code",
      "source": [
        "x = np.asarray([[[1, 2, 3, 4, -5], [1, 2, 3, 4, 5]]], dtype=np.float32).transpose((0, 2, 1))\n",
        "filters = np.asarray([[[1, 0, -1], [-1,  0,  1]], \n",
        "                    [[1, 1,  1], [-1, -1, -1]]], \n",
        "                    dtype=np.float32).transpose((2, 1, 0))\n",
        "\n",
        "print(f\"x strides:  {x.strides}\\nfilters strides: {filters.strides}\\nx shape: {x.shape}\\nfilters shape: {filters.shape}\\nx: \\n{x}\\nfilters: \\n{filters}\\n\")\n",
        "\n",
        "x = torch.Tensor(x)\n",
        "filters = torch.Tensor(filters)\n",
        "\n",
        "strides = 1\n",
        "padding = 'SAME'\n",
        "data_format = 'NWC'\n",
        "dilations = 1\n",
        "\n",
        "filter_shape = list(filters.shape[0:1])\n",
        "filters = filters.permute((2, 1, 0))\n",
        "if data_format == 'NWC':\n",
        "    x = x.permute((0, 2, 1))\n",
        "if padding == 'VALID':\n",
        "    padding_list: List[int] = [0]\n",
        "elif padding == 'SAME':\n",
        "    padding_list: List[int] = [_math.floor(item / 2) for item in filter_shape]\n",
        "else:\n",
        "    raise Exception('Invalid padding arg {}\\n'\n",
        "                    'Must be one of: \"VALID\" or \"SAME\"'.format(padding))\n",
        "res = torch.nn.functional.conv1d(x, filters, None, strides, padding_list, dilations)\n",
        "res = res.permute(0, 2, 1)\n",
        "\n",
        "res = np.asarray(res)\n",
        "\n",
        "print(f\"res strides: {res.strides}\\nres shape: {res.shape}\\nres: \\n{res}\\n\")"
      ],
      "metadata": {
        "colab": {
          "base_uri": "https://localhost:8080/"
        },
        "id": "QLKz_J5BcCbA",
        "outputId": "b4273f5b-8266-42ec-ee6a-9bc84de30074"
      },
      "execution_count": 18,
      "outputs": [
        {
          "output_type": "stream",
          "name": "stdout",
          "text": [
            "x strides:  (40, 4, 20)\n",
            "filters strides: (4, 12, 24)\n",
            "x shape: (1, 5, 2)\n",
            "filters shape: (3, 2, 2)\n",
            "x: \n",
            "[[[ 1.  1.]\n",
            "  [ 2.  2.]\n",
            "  [ 3.  3.]\n",
            "  [ 4.  4.]\n",
            "  [-5.  5.]]]\n",
            "filters: \n",
            "[[[ 1.  1.]\n",
            "  [-1. -1.]]\n",
            "\n",
            " [[ 0.  1.]\n",
            "  [ 0. -1.]]\n",
            "\n",
            " [[-1.  1.]\n",
            "  [ 1. -1.]]]\n",
            "\n",
            "res strides: (40, 4, 20)\n",
            "res shape: (1, 5, 2)\n",
            "res: \n",
            "[[[  0.   0.]\n",
            "  [  0.   0.]\n",
            "  [  0.   0.]\n",
            "  [ 10. -10.]\n",
            "  [  0. -10.]]]\n",
            "\n"
          ]
        }
      ]
    },
    {
      "cell_type": "code",
      "source": [
        "x = np.asarray([[[1, 2, 3, 4, 5]]], dtype=np.float32).transpose((0, 2, 1))\n",
        "filters = np.asarray([[[-1, 1, 1]]], dtype=np.float32).transpose((2, 1, 0))\n",
        "\n",
        "print(f\"x strides:  {x.strides}\\nfilters strides: {filters.strides}\\nx shape: {x.shape}\\nfilters shape: {filters.shape}\\nx: \\n{x}\\nfilters: \\n{filters}\\n\")\n",
        "\n",
        "x = torch.from_numpy(x)\n",
        "filters = torch.from_numpy(filters)\n",
        "\n",
        "strides = 1\n",
        "padding = 'SAME'\n",
        "data_format = 'NWC'\n",
        "dilations = 1\n",
        "\n",
        "filter_shape = list(filters.shape[0:1])\n",
        "filters = filters.permute((2, 1, 0))\n",
        "if data_format == 'NWC':\n",
        "    x = x.permute((0, 2, 1))\n",
        "if padding == 'VALID':\n",
        "    padding_list: List[int] = [0]\n",
        "elif padding == 'SAME':\n",
        "    padding_list: List[int] = [_math.floor(item / 2) for item in filter_shape]\n",
        "else:\n",
        "    raise Exception('Invalid padding arg {}\\n'\n",
        "                    'Must be one of: \"VALID\" or \"SAME\"'.format(padding))\n",
        "res = torch.nn.functional.conv1d(x, filters, None, strides, padding_list, dilations)\n",
        "res = res.permute(0, 2, 1)\n",
        "\n",
        "res = np.asarray(res)\n",
        "\n",
        "print(f\"res strides: {res.strides}\\nres shape: {res.shape}\\nres: \\n{res}\\n\")"
      ],
      "metadata": {
        "colab": {
          "base_uri": "https://localhost:8080/"
        },
        "id": "SlroBaUbheQF",
        "outputId": "72708f7e-97b0-4b7f-a00a-c62495e4bf1a"
      },
      "execution_count": 19,
      "outputs": [
        {
          "output_type": "stream",
          "name": "stdout",
          "text": [
            "x strides:  (20, 4, 20)\n",
            "filters strides: (4, 12, 12)\n",
            "x shape: (1, 5, 1)\n",
            "filters shape: (3, 1, 1)\n",
            "x: \n",
            "[[[1.]\n",
            "  [2.]\n",
            "  [3.]\n",
            "  [4.]\n",
            "  [5.]]]\n",
            "filters: \n",
            "[[[-1.]]\n",
            "\n",
            " [[ 1.]]\n",
            "\n",
            " [[ 1.]]]\n",
            "\n",
            "res strides: (20, 4, 20)\n",
            "res shape: (1, 5, 1)\n",
            "res: \n",
            "[[[3.]\n",
            "  [4.]\n",
            "  [5.]\n",
            "  [6.]\n",
            "  [1.]]]\n",
            "\n"
          ]
        }
      ]
    }
  ]
}